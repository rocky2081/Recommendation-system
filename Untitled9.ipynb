{
  "nbformat": 4,
  "nbformat_minor": 0,
  "metadata": {
    "colab": {
      "provenance": []
    },
    "kernelspec": {
      "name": "python3",
      "display_name": "Python 3"
    },
    "language_info": {
      "name": "python"
    }
  },
  "cells": [
    {
      "cell_type": "code",
      "execution_count": 9,
      "metadata": {
        "colab": {
          "base_uri": "https://localhost:8080/"
        },
        "id": "l8h58OeFdHqQ",
        "outputId": "504c17fa-8d2c-410b-ebd5-8e406499628a"
      },
      "outputs": [
        {
          "output_type": "stream",
          "name": "stdout",
          "text": [
            "   Customer ID  Age Gender Item Purchased  Category  Purchase Amount (USD)  \\\n",
            "0            1   55   Male         Blouse  Clothing                     53   \n",
            "1            2   19   Male        Sweater  Clothing                     64   \n",
            "2            3   50   Male          Jeans  Clothing                     73   \n",
            "3            4   21   Male        Sandals  Footwear                     90   \n",
            "4            5   45   Male         Blouse  Clothing                     49   \n",
            "\n",
            "        Location Size      Color  Season  Review Rating Subscription Status  \\\n",
            "0       Kentucky    L       Gray  Winter            3.1                 Yes   \n",
            "1          Maine    L     Maroon  Winter            3.1                 Yes   \n",
            "2  Massachusetts    S     Maroon  Spring            3.1                 Yes   \n",
            "3   Rhode Island    M     Maroon  Spring            3.5                 Yes   \n",
            "4         Oregon    M  Turquoise  Spring            2.7                 Yes   \n",
            "\n",
            "   Shipping Type Discount Applied Promo Code Used  Previous Purchases  \\\n",
            "0        Express              Yes             Yes                  14   \n",
            "1        Express              Yes             Yes                   2   \n",
            "2  Free Shipping              Yes             Yes                  23   \n",
            "3   Next Day Air              Yes             Yes                  49   \n",
            "4  Free Shipping              Yes             Yes                  31   \n",
            "\n",
            "  Payment Method Frequency of Purchases  \n",
            "0          Venmo            Fortnightly  \n",
            "1           Cash            Fortnightly  \n",
            "2    Credit Card                 Weekly  \n",
            "3         PayPal                 Weekly  \n",
            "4         PayPal               Annually  \n"
          ]
        }
      ],
      "source": [
        "#we load the dataset to the notebook in this cell\n",
        "import pandas as pd\n",
        "\n",
        "data = pd.read_csv('/content/shopping_behavior_updated.csv')\n",
        "\n",
        "print(data.head())\n"
      ]
    },
    {
      "source": [
        "#we display the dataset to view about the contents and details of the dataset\n",
        "print(data.info())\n",
        "print(data.describe())\n",
        "\n"
      ],
      "cell_type": "code",
      "metadata": {
        "colab": {
          "base_uri": "https://localhost:8080/"
        },
        "id": "w87J_dnTfSyh",
        "outputId": "f6380915-7478-4b00-b747-97f7a659897b"
      },
      "execution_count": 10,
      "outputs": [
        {
          "output_type": "stream",
          "name": "stdout",
          "text": [
            "<class 'pandas.core.frame.DataFrame'>\n",
            "RangeIndex: 3900 entries, 0 to 3899\n",
            "Data columns (total 18 columns):\n",
            " #   Column                  Non-Null Count  Dtype  \n",
            "---  ------                  --------------  -----  \n",
            " 0   Customer ID             3900 non-null   int64  \n",
            " 1   Age                     3900 non-null   int64  \n",
            " 2   Gender                  3900 non-null   object \n",
            " 3   Item Purchased          3900 non-null   object \n",
            " 4   Category                3900 non-null   object \n",
            " 5   Purchase Amount (USD)   3900 non-null   int64  \n",
            " 6   Location                3900 non-null   object \n",
            " 7   Size                    3900 non-null   object \n",
            " 8   Color                   3900 non-null   object \n",
            " 9   Season                  3900 non-null   object \n",
            " 10  Review Rating           3900 non-null   float64\n",
            " 11  Subscription Status     3900 non-null   object \n",
            " 12  Shipping Type           3900 non-null   object \n",
            " 13  Discount Applied        3900 non-null   object \n",
            " 14  Promo Code Used         3900 non-null   object \n",
            " 15  Previous Purchases      3900 non-null   int64  \n",
            " 16  Payment Method          3900 non-null   object \n",
            " 17  Frequency of Purchases  3900 non-null   object \n",
            "dtypes: float64(1), int64(4), object(13)\n",
            "memory usage: 548.6+ KB\n",
            "None\n",
            "       Customer ID          Age  Purchase Amount (USD)  Review Rating  \\\n",
            "count  3900.000000  3900.000000            3900.000000    3900.000000   \n",
            "mean   1950.500000    44.068462              59.764359       3.749949   \n",
            "std    1125.977353    15.207589              23.685392       0.716223   \n",
            "min       1.000000    18.000000              20.000000       2.500000   \n",
            "25%     975.750000    31.000000              39.000000       3.100000   \n",
            "50%    1950.500000    44.000000              60.000000       3.700000   \n",
            "75%    2925.250000    57.000000              81.000000       4.400000   \n",
            "max    3900.000000    70.000000             100.000000       5.000000   \n",
            "\n",
            "       Previous Purchases  \n",
            "count         3900.000000  \n",
            "mean            25.351538  \n",
            "std             14.447125  \n",
            "min              1.000000  \n",
            "25%             13.000000  \n",
            "50%             25.000000  \n",
            "75%             38.000000  \n",
            "max             50.000000  \n"
          ]
        }
      ]
    },
    {
      "cell_type": "code",
      "source": [
        "#we create the item id which is missing in the dataset\n",
        "data['Item_ID'] = data['Item Purchased'].astype('category').cat.codes\n",
        "\n",
        "print(data.head())"
      ],
      "metadata": {
        "colab": {
          "base_uri": "https://localhost:8080/"
        },
        "id": "j-GezR29lSXZ",
        "outputId": "b9b6021c-c43e-422b-fc29-73195c848ed9"
      },
      "execution_count": 13,
      "outputs": [
        {
          "output_type": "stream",
          "name": "stdout",
          "text": [
            "   Customer ID  Age Gender Item Purchased  Category  Purchase Amount (USD)  \\\n",
            "0            1   55   Male         Blouse  Clothing                     53   \n",
            "1            2   19   Male        Sweater  Clothing                     64   \n",
            "2            3   50   Male          Jeans  Clothing                     73   \n",
            "3            4   21   Male        Sandals  Footwear                     90   \n",
            "4            5   45   Male         Blouse  Clothing                     49   \n",
            "\n",
            "        Location Size      Color  Season  Review Rating Subscription Status  \\\n",
            "0       Kentucky    L       Gray  Winter            3.1                 Yes   \n",
            "1          Maine    L     Maroon  Winter            3.1                 Yes   \n",
            "2  Massachusetts    S     Maroon  Spring            3.1                 Yes   \n",
            "3   Rhode Island    M     Maroon  Spring            3.5                 Yes   \n",
            "4         Oregon    M  Turquoise  Spring            2.7                 Yes   \n",
            "\n",
            "   Shipping Type Discount Applied Promo Code Used  Previous Purchases  \\\n",
            "0        Express              Yes             Yes                  14   \n",
            "1        Express              Yes             Yes                   2   \n",
            "2  Free Shipping              Yes             Yes                  23   \n",
            "3   Next Day Air              Yes             Yes                  49   \n",
            "4  Free Shipping              Yes             Yes                  31   \n",
            "\n",
            "  Payment Method Frequency of Purchases  Item_ID  \n",
            "0          Venmo            Fortnightly        2  \n",
            "1           Cash            Fortnightly       23  \n",
            "2    Credit Card                 Weekly       11  \n",
            "3         PayPal                 Weekly       14  \n",
            "4         PayPal               Annually        2  \n"
          ]
        }
      ]
    },
    {
      "cell_type": "code",
      "source": [
        "#we use the train test split and train the model\n",
        "from surprise import SVD, Dataset, Reader\n",
        "from surprise.model_selection import train_test_split\n",
        "\n",
        "user_item_data = data.groupby(['Customer ID', 'Item_ID']).size().reset_index(name='rating')\n",
        "\n",
        "reader = Reader(rating_scale=(0, user_item_data['rating'].max()))\n",
        "surprise_data = Dataset.load_from_df(user_item_data[['Customer ID', 'Item_ID', 'rating']], reader)\n",
        "\n",
        "\n",
        "trainset, testset = train_test_split(surprise_data, test_size=0.2, random_state=42)\n",
        "\n",
        "\n",
        "model = SVD()\n",
        "model.fit(trainset)\n"
      ],
      "metadata": {
        "colab": {
          "base_uri": "https://localhost:8080/"
        },
        "id": "NMdi-1w5l-rl",
        "outputId": "ff9e4453-6b61-422e-b471-f40807755fb9"
      },
      "execution_count": 16,
      "outputs": [
        {
          "output_type": "execute_result",
          "data": {
            "text/plain": [
              "<surprise.prediction_algorithms.matrix_factorization.SVD at 0x7e148e262e50>"
            ]
          },
          "metadata": {},
          "execution_count": 16
        }
      ]
    },
    {
      "cell_type": "code",
      "source": [
        "#we design the recommendation system\n",
        "def recommend_top_items(customer_id, model, data, num_recommendations=4):\n",
        "    \"\"\"\n",
        "    Recommend top N items for a given customer.\n",
        "    \"\"\"\n",
        "\n",
        "    all_items = data['Item_ID'].unique()\n",
        "\n",
        "\n",
        "    purchased_items = data[data['Customer ID'] == customer_id]['Item_ID'].tolist()\n",
        "\n",
        "\n",
        "    items_to_predict = [item for item in all_items if item not in purchased_items]\n",
        "\n",
        "\n",
        "    predictions = [model.predict(customer_id, item_id) for item_id in items_to_predict]\n",
        "\n",
        "\n",
        "    predictions.sort(key=lambda x: x.est, reverse=True)\n",
        "\n",
        "\n",
        "    top_recommendations = [(pred.iid, pred.est) for pred in predictions[:num_recommendations]]\n",
        "    return top_recommendations\n",
        "\n",
        "\n",
        "customer_id = '2'\n",
        "recommendations = recommend_top_items(customer_id, model, user_item_data, num_recommendations=4)\n",
        "print(f\"Top 4 recommended items for Customer {customer_id}: {recommendations}\")\n"
      ],
      "metadata": {
        "colab": {
          "base_uri": "https://localhost:8080/"
        },
        "id": "USDhdSOlmU8D",
        "outputId": "63b7fc19-402a-4ead-d922-97fc3f4bc2a8"
      },
      "execution_count": 23,
      "outputs": [
        {
          "output_type": "stream",
          "name": "stdout",
          "text": [
            "Top 4 recommended items for Customer 2: [(23, 1), (14, 1), (16, 1), (18, 1)]\n"
          ]
        }
      ]
    },
    {
      "cell_type": "code",
      "source": [
        "#we turn the item id into item purchased\n",
        "item_map = data[['Item_ID', 'Item Purchased']].drop_duplicates()\n",
        "\n",
        "recommended_items = [(item_map[item_map['Item_ID'] == item_id]['Item Purchased'].values[0], rating)\n",
        "                     for item_id, rating in recommendations]\n",
        "\n",
        "print(f\"Top 4 recommended items for Customer {customer_id}: {recommended_items}\")\n"
      ],
      "metadata": {
        "colab": {
          "base_uri": "https://localhost:8080/"
        },
        "id": "OPYxZ8mqmwVl",
        "outputId": "536a6e6e-c930-40bb-8e65-37de941a50a0"
      },
      "execution_count": 24,
      "outputs": [
        {
          "output_type": "stream",
          "name": "stdout",
          "text": [
            "Top 4 recommended items for Customer 2: [('Sweater', 1), ('Sandals', 1), ('Shirt', 1), ('Shorts', 1)]\n"
          ]
        }
      ]
    }
  ]
}